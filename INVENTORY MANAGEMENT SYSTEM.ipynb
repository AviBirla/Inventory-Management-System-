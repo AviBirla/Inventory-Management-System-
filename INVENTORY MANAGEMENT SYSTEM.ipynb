{
 "cells": [
  {
   "cell_type": "markdown",
   "metadata": {},
   "source": [
    "\n",
    "<br>\n",
    "                                        Functions in our program defined below:<br>\n",
    "                                        \n",
    "------------------Accessible for STAFF only-----------------------<br>\n",
    "#1 show_stock ----      to show the stock available in store and show warning & detail on low stock (called by manually).<br>\n",
    "#2 add_stock ----       to add new stock in store for new/existing items (called by manually).<br>\n",
    "#3 show_sold ----       to print the record of sold items or reset sold the record (called by manually).<br>\n",
    "------------------Accessible for CUSTOMER/USER ----------------------------<br>\n",
    "#4 purchase ----        to purchase the items available in store (called by runtime).<br>\n",
    "#5 retrn_data ----      to write the updated stock data back to the stock file and sold item to sold_item file after<br>\n",
    "                        purchasing by user (called by dec_stock/ add_stock ).<br>\n",
    "#6 dec_stock ----       to update the data after items purchased by user (called by checkout).<br>\n",
    "#7 checkout ----        to checkout after purchased, calculate and checking out Final bill and print all details<br>\n",
    "                        (called by purchase).<br>\n"
   ]
  },
  {
   "cell_type": "code",
   "execution_count": null,
   "metadata": {},
   "outputs": [],
   "source": [
    "from json import *\n",
    "from datetime import date"
   ]
  },
  {
   "cell_type": "code",
   "execution_count": null,
   "metadata": {},
   "outputs": [],
   "source": [
    "def show_stock():\n",
    "    #global data\n",
    "    low_stock=[]\n",
    "    print()\n",
    "    for d in data:\n",
    "        print(d , \" : \" ,\" \"*(20-len(d)), data[d]['Quantity'])\n",
    "        if data[d]['Quantity']<=50:\n",
    "            low_stock.append((d,data[d]['Quantity']))\n",
    "    print(\"\\n-----------------------------| STOCK STATUS |--------------------------------\")\n",
    "    print(\"------------------------------**************---------------------------------\")\n",
    "    if len(low_stock)!=0:\n",
    "        print(\"\\n### WARNING ###    We have some item in low stock below, order it as soon as possible (item name,quantity) :\")\n",
    "\n",
    "        print(*low_stock,end=\"\\n\")\n",
    "    else:\n",
    "        print(\"\\nHey, We have all items in good stock...\")"
   ]
  },
  {
   "cell_type": "code",
   "execution_count": null,
   "metadata": {},
   "outputs": [],
   "source": [
    "def add_stock():\n",
    "    global data\n",
    "    while True:\n",
    "        itm = input(\"Enter the item to add in stock: \")\n",
    "        qn = int(input(\"Enter the quantity of item: \"))\n",
    "        if itm in data:\n",
    "             \n",
    "            data[itm]['Quantity'] += qn\n",
    "            \n",
    "            print(\"Quantity Added to the Item...\")\n",
    "            print(\"Current Total Quantity :\", data[itm]['Quantity'])      \n",
    "        else:\n",
    "            print(\"\\nNew item arrived!, Please provide more information below to add this item: \")\n",
    "            pid=4000+len(data)+1\n",
    "            cat=input(\"category of the item: \")\n",
    "            pr= int(input(\"Price of item per unit: \"))\n",
    "            dis=int(input(\"Discount for this item: \"))\n",
    "            data[itm]={'category': cat, 'id': pid, 'price': pr, 'Quantity': qn, 'discount': dis}\n",
    "            print(\"New Item Added in your stock !!!\")\n",
    "        retrn_data()\n",
    "        rp6 = int(input(\"press 'm' for add more items (press 0 to exit:) \"))\n",
    "        if rp6 == 'm':\n",
    "            continue\n",
    "        else:\n",
    "            break"
   ]
  },
  {
   "cell_type": "code",
   "execution_count": null,
   "metadata": {},
   "outputs": [],
   "source": [
    "def show_sold():\n",
    "    global sold_items\n",
    "    if len(sold_items)==0:\n",
    "        print(\"\\nNo Items sold yet...\")\n",
    "    else:\n",
    "        for sitm in sold_items:\n",
    "            print(sitm, \" : \", \" \" * (16 - len(sitm)), sold_items[sitm])\n",
    "    rp7=int(input(\"press 1 to reset the sold items record/ 0 to exit: \"))\n",
    "    if rp7==1:\n",
    "        rp8=int(input(\"Are you sure you want to RESET the sold record: press 1 to RESET/ 0 TO exit: \"))\n",
    "        if rp8==1:\n",
    "            sold_items.clear()\n",
    "    exit()"
   ]
  },
  {
   "cell_type": "code",
   "execution_count": null,
   "metadata": {},
   "outputs": [],
   "source": [
    "def purchase():\n",
    "    global cart\n",
    "    global data\n",
    "    while True:\n",
    "        print(\"----------------------------------------------------------------------------------\")\n",
    "        item=input(\"\\nAdd the item you want to purchase in your cart from the above menu (press 0 for exit): \")\n",
    "        if item=='0':\n",
    "            print(\"You dont have anything in your cart !!!\")\n",
    "            exit()\n",
    "        if item not in data:\n",
    "            print(\"-- This item is not being sell in this store , pls enter valid name from above menu ! --\")\n",
    "            rp1=input(\"Do You want to continue your shopping here: press 1 for Yes/ 0 for No: \")\n",
    "            if rp1=='1':\n",
    "                purchase()\n",
    "            else:\n",
    "                checkout()\n",
    "                break\n",
    "        else:\n",
    "            while True:\n",
    "                quantity= int(input(\"Enter the Quantity here: \"))\n",
    "                if quantity>data[item]['Quantity']:\n",
    "                    print(\"Item is not available in this quantity for now, you can purchase it maximum {} \".format(data[item]['Quantity']))\n",
    "                    rp2=input(\"Do yo want to going with same item ? Yes/No: \")\n",
    "                    if rp2=='Yes':\n",
    "                        continue\n",
    "                    else:\n",
    "                        checkout()\n",
    "                        break\n",
    "                else:\n",
    "                    cart.append((item,quantity))\n",
    "                    rp3=input(f\"{item} added to your cart !, add more item say YES /(press 0 for checkout): \")\n",
    "                    if rp3=='0':\n",
    "                        checkout()\n",
    "                        break\n",
    "                    else:\n",
    "                        purchase()"
   ]
  },
  {
   "cell_type": "code",
   "execution_count": null,
   "metadata": {},
   "outputs": [],
   "source": [
    "def retrn_data():\n",
    "    global data\n",
    "    global sold_items\n",
    "    js = dumps(data)\n",
    "    fil = open(\"stock_file.txt\", \"w+\")\n",
    "    fil.write(js)\n",
    "    fil.close()\n",
    "    js2=dumps(sold_items)\n",
    "    fil2 =open(\"sold_stock.txt\", \"w+\")\n",
    "    fil2.write(js2)\n",
    "    fil2.close()"
   ]
  },
  {
   "cell_type": "code",
   "execution_count": null,
   "metadata": {},
   "outputs": [],
   "source": [
    "def dec_stock():\n",
    "    global data\n",
    "    global cart\n",
    "    global sold_items\n",
    "    for i,q in cart:\n",
    "        data[i]['Quantity']-=q\n",
    "        if i in sold_items:\n",
    "            sold_items[i]+=q\n",
    "        else:\n",
    "            sold_items[i]=q\n",
    "    retrn_data()"
   ]
  },
  {
   "cell_type": "code",
   "execution_count": null,
   "metadata": {},
   "outputs": [],
   "source": [
    "def checkout():\n",
    "    global data\n",
    "    global cart\n",
    "    tot=0\n",
    "    dis=0\n",
    "    carts=[]\n",
    "    if len(cart)>0:\n",
    "        print(\"\\n\\n----------------------- GET YOUR BILL-------------------------\\n\")\n",
    "        print(\"Your cart is (item, quantity): \")\n",
    "        print(*cart,\"\\n\")\n",
    "        print(\"------*******************************------\\n\")\n",
    "        #print(\"\\n----------\")\n",
    "        for i,q in cart:\n",
    "            dis=((data[i]['discount']/100)*(q*data[i]['price']))\n",
    "            tot+=(q*data[i]['price'])\n",
    "            carts.append((i,q,q*data[i]['price'],data[i]['price'],))\n",
    "        print(\"----****  Your GRAND TOTAL is:  {} /- ****----\".format(tot-dis))\n",
    "        print(\"-------------------------------------------------------------\\n\")\n",
    "        \n",
    "        print(\"-------BILLING SUMMARY------- \")\n",
    "        print(\"-x-x-x-x-x-x-x-x-x-x-x-x-x-x-\\n\")\n",
    "        today= date.today()\n",
    "        d2= today.strftime(\"%B %d,%Y\")\n",
    "        print(\"Your Billing Date is: \",d2)\n",
    "        print()\n",
    "        c=0\n",
    "        for it,qn,p,pr in carts:\n",
    "            c+=1\n",
    "            print(\"{}. {} {} for {} /- : ({} * {})\".format(c,qn,it,p,qn,pr))\n",
    "        print()\n",
    "        print(\" Total cart value is:----------------------------  {} /-\".format(tot))\n",
    "        print(\" Total discount value is:------------------------ -{} /-\".format(dis))\n",
    "        print(\"\\nThanks for shopping here :) Have a Good Day !!...\")\n",
    "        dec_stock()\n",
    "        cart.clear()\n",
    "    else:\n",
    "        rp4=input(\"You dont have anything in cart, Do you want to purchase? yes/no: \")\n",
    "        if rp4=='yes':\n",
    "            purchase()\n",
    "        else:\n",
    "            exit()"
   ]
  },
  {
   "cell_type": "code",
   "execution_count": null,
   "metadata": {},
   "outputs": [],
   "source": [
    "cart=[]"
   ]
  },
  {
   "cell_type": "code",
   "execution_count": null,
   "metadata": {},
   "outputs": [],
   "source": [
    "file=open(\"stock_file.txt\",\"r+\")\n",
    "js= file.read()\n",
    "file.close()"
   ]
  },
  {
   "cell_type": "code",
   "execution_count": null,
   "metadata": {},
   "outputs": [],
   "source": [
    "data=loads(js)"
   ]
  },
  {
   "cell_type": "code",
   "execution_count": null,
   "metadata": {},
   "outputs": [],
   "source": [
    "file2=open(\"sold_stock.txt\",\"r+\")\n",
    "js2= file2.read()\n",
    "file2.close()"
   ]
  },
  {
   "cell_type": "code",
   "execution_count": null,
   "metadata": {},
   "outputs": [],
   "source": [
    "sold_items=loads(js2)"
   ]
  },
  {
   "cell_type": "code",
   "execution_count": null,
   "metadata": {},
   "outputs": [],
   "source": [
    "rp=input(\"Enter as staff / User ?(press s for staff / u for user): \")\n",
    "if rp=='s':\n",
    "    rp5=int(input(\"1. press 1 for check stock \\n2. press 2 for add items to stock \\n3. press 3 to print Sold Items: \"))\n",
    "    if rp5==1:\n",
    "        show_stock()\n",
    "    elif rp5==2:\n",
    "        add_stock()\n",
    "    elif rp5==3:\n",
    "        show_sold()\n",
    "else:\n",
    "    print(\"ITEM NAME\", \"                    \", \"PRICE\", \"         \", \"  TODAY DISCOUNT\")\n",
    "    print(\"--------------------------------------------------------------------\")\n",
    "    for i in data:\n",
    "        print(i, \" \" * (30 - len(i)), str(data[i]['price']), \" \" * (20 - len(str(data[i]['price']))),\n",
    "              str(data[i]['discount']) + \"%\")\n",
    "    purchase()"
   ]
  }
 ],
 "metadata": {
  "kernelspec": {
   "display_name": "Python 3",
   "language": "python",
   "name": "python3"
  },
  "language_info": {
   "codemirror_mode": {
    "name": "ipython",
    "version": 3
   },
   "file_extension": ".py",
   "mimetype": "text/x-python",
   "name": "python",
   "nbconvert_exporter": "python",
   "pygments_lexer": "ipython3",
   "version": "3.8.8"
  }
 },
 "nbformat": 4,
 "nbformat_minor": 2
}
